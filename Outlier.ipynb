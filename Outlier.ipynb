{
  "nbformat": 4,
  "nbformat_minor": 0,
  "metadata": {
    "colab": {
      "provenance": []
    },
    "kernelspec": {
      "name": "python3",
      "display_name": "Python 3"
    },
    "language_info": {
      "name": "python"
    }
  },
  "cells": [
    {
      "cell_type": "code",
      "execution_count": 2,
      "metadata": {
        "colab": {
          "base_uri": "https://localhost:8080/"
        },
        "id": "HTSXc1xp5f8m",
        "outputId": "70d37a0a-394f-438a-b889-ff4884d50f03"
      },
      "outputs": [
        {
          "output_type": "stream",
          "name": "stdout",
          "text": [
            "Index(['Date', 'Symbol', 'Open', 'High', 'Low', 'Close', 'Volume'], dtype='object')\n",
            "[[ 57327900]\n",
            " [100345700]\n",
            " [ 90862100]\n",
            " ...\n",
            " [ 67825200]\n",
            " [ 31124200]\n",
            " [ 23624000]]\n"
          ]
        },
        {
          "output_type": "stream",
          "name": "stderr",
          "text": [
            "<ipython-input-2-c829ee8ebbd0>:22: FutureWarning: Setting an item of incompatible dtype is deprecated and will raise an error in a future version of pandas. Value '43674709.0548054' has dtype incompatible with int64, please explicitly cast to a compatible dtype first.\n",
            "  df.loc[mask, 'Volume'] = df['Volume'].mean()\n"
          ]
        }
      ],
      "source": [
        "\"\"\"Using scikit-learn to detect ourliers\"\"\"\n",
        "import pandas as pd\n",
        "from sklearn.neighbors import LocalOutlierFactor\n",
        "\n",
        "df = pd.read_csv('/content/AAPL.csv')\n",
        "print(df.columns)  # ['Symbol', 'Open', 'High', 'Low', 'Close', 'Volume']\n",
        "\n",
        "# Find outliers in Volume\n",
        "\n",
        "# Convert to numpy array in shape for LocalOutlierFactor\n",
        "volume = df['Volume'].values.reshape(-1, 1)\n",
        "print(volume)  # [[ 57327900] [100345700] [ 90862100] ...\n",
        "\n",
        "# Create model & find outliers\n",
        "clf = LocalOutlierFactor(contamination='auto')\n",
        "vals = clf.fit_predict(volume)\n",
        "\n",
        "# Get boolean mask\n",
        "mask = (vals == -1)  # -1 is outlier\n",
        "\n",
        "# Set values in outliers to mean Volume\n",
        "df.loc[mask, 'Volume'] = df['Volume'].mean()\n"
      ]
    }
  ]
}