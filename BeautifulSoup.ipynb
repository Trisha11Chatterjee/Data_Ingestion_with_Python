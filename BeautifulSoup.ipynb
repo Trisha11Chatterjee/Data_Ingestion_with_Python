{
  "nbformat": 4,
  "nbformat_minor": 0,
  "metadata": {
    "colab": {
      "provenance": []
    },
    "kernelspec": {
      "name": "python3",
      "display_name": "Python 3"
    },
    "language_info": {
      "name": "python"
    }
  },
  "cells": [
    {
      "cell_type": "code",
      "execution_count": 3,
      "metadata": {
        "colab": {
          "base_uri": "https://localhost:8080/"
        },
        "id": "EybOo2W3LD3A",
        "outputId": "215f8926-75b5-44f2-e741-174fc4426def"
      },
      "outputs": [
        {
          "output_type": "stream",
          "name": "stdout",
          "text": [
            "Requirement already satisfied: beautifulsoup4 in /usr/local/lib/python3.10/dist-packages (4.12.3)\n",
            "Requirement already satisfied: soupsieve>1.2 in /usr/local/lib/python3.10/dist-packages (from beautifulsoup4) (2.6)\n",
            "date: 2019-11-11 00:00:00\n",
            "USD/GBP = 0.830000\n",
            "USD/EUR = 0.890000\n",
            "USD/JPY = 105.300000\n",
            "USD/BTC = 0.000088\n",
            "USD/ILS = 3.480000\n"
          ]
        }
      ],
      "source": [
        "!pip install beautifulsoup4\n",
        "from datetime import datetime\n",
        "\n",
        "from bs4 import BeautifulSoup\n",
        "\n",
        "\n",
        "def parse_html(html):\n",
        "    \"\"\"Parse FX html, return date and dict of {symbol -> rate}\"\"\"\n",
        "    soup = BeautifulSoup(html, 'html.parser')\n",
        "\n",
        "    # <h4>Date: <i class=\"date\">2019-11-11</i></h4>\n",
        "    i = soup('i', {'class': 'date'})\n",
        "    if not i:\n",
        "        raise ValueError('cannot find date')\n",
        "\n",
        "    date = datetime.strptime(i[0].text, '%Y-%m-%d')\n",
        "\n",
        "    rates = {}\n",
        "    for tr in soup('tr'):\n",
        "        # <tr>\n",
        "        # <td><i class=\"fas fa-pound-sign\" data-toggle=\"tooltip\"\n",
        "        #   title=\"GBP\"></i></td>\n",
        "        # <td>0.83</td>\n",
        "        # </tr>\n",
        "        symbol_td, rate_td = tr('td')\n",
        "        symbol = symbol_td('i')[0]['title']\n",
        "        rate = float(rate_td.text)\n",
        "        rates[symbol] = rate\n",
        "\n",
        "    return date, rates\n",
        "\n",
        "\n",
        "if __name__ == '__main__':\n",
        "    with open('fx.html') as fp:\n",
        "        html = fp.read()\n",
        "\n",
        "    date, rates = parse_html(html)\n",
        "    print(f'date: {date}')\n",
        "    for symbol, rate in rates.items():\n",
        "        print(f'USD/{symbol} = {rate:f}')\n"
      ]
    }
  ]
}