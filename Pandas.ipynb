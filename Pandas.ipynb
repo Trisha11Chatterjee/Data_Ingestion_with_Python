{
  "nbformat": 4,
  "nbformat_minor": 0,
  "metadata": {
    "colab": {
      "provenance": []
    },
    "kernelspec": {
      "name": "python3",
      "display_name": "Python 3"
    },
    "language_info": {
      "name": "python"
    }
  },
  "cells": [
    {
      "cell_type": "code",
      "execution_count": 2,
      "metadata": {
        "colab": {
          "base_uri": "https://localhost:8080/"
        },
        "id": "UJsYdzH3C2IX",
        "outputId": "23b64424-21b7-47a7-ac23-b466590bed35"
      },
      "outputs": [
        {
          "output_type": "stream",
          "name": "stdout",
          "text": [
            "Requirement already satisfied: pandas in /usr/local/lib/python3.10/dist-packages (2.2.2)\n",
            "Requirement already satisfied: numpy>=1.22.4 in /usr/local/lib/python3.10/dist-packages (from pandas) (1.26.4)\n",
            "Requirement already satisfied: python-dateutil>=2.8.2 in /usr/local/lib/python3.10/dist-packages (from pandas) (2.8.2)\n",
            "Requirement already satisfied: pytz>=2020.1 in /usr/local/lib/python3.10/dist-packages (from pandas) (2024.2)\n",
            "Requirement already satisfied: tzdata>=2022.7 in /usr/local/lib/python3.10/dist-packages (from pandas) (2024.2)\n",
            "Requirement already satisfied: six>=1.5 in /usr/local/lib/python3.10/dist-packages (from python-dateutil>=2.8.2->pandas) (1.16.0)\n",
            "   VendorID tpep_pickup_datetime tpep_dropoff_datetime  passenger_count  \\\n",
            "0         2  2018-10-31 07:10:55   2018-11-01 06:43:24                1   \n",
            "1         2  2018-10-31 16:38:25   2018-10-31 16:50:10                5   \n",
            "2         2  2018-10-31 20:23:41   2018-10-31 20:31:47                1   \n",
            "3         2  2018-10-31 22:44:24   2018-10-31 22:48:28                1   \n",
            "4         2  2018-10-31 23:22:18   2018-10-31 23:35:30                1   \n",
            "\n",
            "   trip_distance  RatecodeID store_and_fwd_flag  PULocationID  DOLocationID  \\\n",
            "0           2.57           1                  N           211            48   \n",
            "1           3.58           1                  N           237           144   \n",
            "2           2.39           1                  N           163           107   \n",
            "3           0.50           1                  N           246           246   \n",
            "4           1.81           1                  N            79            90   \n",
            "\n",
            "   payment_type  fare_amount  extra  mta_tax  tip_amount  tolls_amount  \\\n",
            "0             1         14.5    0.5      0.5        4.74           0.0   \n",
            "1             2         12.5    0.5      0.5        0.00           0.0   \n",
            "2             1          9.0    0.5      0.5        1.00           0.0   \n",
            "3             2          4.5    0.5      0.5        0.00           0.0   \n",
            "4             1         10.0    0.5      0.5        2.26           0.0   \n",
            "\n",
            "   improvement_surcharge  total_amount  \n",
            "0                    0.3         20.54  \n",
            "1                    0.3         13.80  \n",
            "2                    0.3         11.30  \n",
            "3                    0.3          5.80  \n",
            "4                    0.3         13.56  \n",
            "100\n",
            "100\n",
            "100\n",
            "100\n",
            "100\n",
            "100\n",
            "100\n",
            "100\n",
            "100\n",
            "100\n",
            "100\n"
          ]
        }
      ],
      "source": [
        "\"\"\"Load & converting data from CSV using Pandas\"\"\"\n",
        "!pip install pandas\n",
        "import pandas as pd\n",
        "\n",
        "time_cols = ['tpep_dropoff_datetime', 'tpep_pickup_datetime']\n",
        "\n",
        "\n",
        "def load_df(file_name):\n",
        "    return pd.read_csv('taxi.csv.bz2', parse_dates=time_cols)\n",
        "\n",
        "\n",
        "print(load_df('taxi.csv.bz2').head())\n",
        "\n",
        "\n",
        "def iter_df(file_name):\n",
        "    yield from pd.read_csv(\n",
        "        'taxi.csv.bz2', parse_dates=time_cols, chunksize=100)\n",
        "\n",
        "\n",
        "for i, df in enumerate(iter_df('taxi.csv.bz2')):\n",
        "    if i > 10:\n",
        "        break\n",
        "    print(len(df))"
      ]
    }
  ]
}